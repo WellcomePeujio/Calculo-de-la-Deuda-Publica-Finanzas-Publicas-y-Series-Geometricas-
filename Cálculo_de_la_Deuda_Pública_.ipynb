{
  "nbformat": 4,
  "nbformat_minor": 0,
  "metadata": {
    "colab": {
      "private_outputs": true,
      "provenance": [],
      "authorship_tag": "ABX9TyOvVaRQA08/NVBynnAVPO7w",
      "include_colab_link": true
    },
    "kernelspec": {
      "name": "python3",
      "display_name": "Python 3"
    },
    "language_info": {
      "name": "python"
    }
  },
  "cells": [
    {
      "cell_type": "markdown",
      "metadata": {
        "id": "view-in-github",
        "colab_type": "text"
      },
      "source": [
        "<a href=\"https://colab.research.google.com/github/WellcomePeujio/Calculo-de-la-Deuda-Publica-Finanzas-Publicas-y-Series-Geometricas-/blob/main/C%C3%A1lculo_de_la_Deuda_P%C3%BAblica_.ipynb\" target=\"_parent\"><img src=\"https://colab.research.google.com/assets/colab-badge.svg\" alt=\"Open In Colab\"/></a>"
      ]
    },
    {
      "cell_type": "markdown",
      "source": [
        "# Cálculo de la Deuda Pública (Finanzas Públicas y Series Geométricas)\n",
        "\n",
        "## Problema\n",
        "\n",
        "Un país tiene una deuda pública de \\$1 billón, y cada año esta deuda crece un 3%. El gobierno quiere estimar la deuda acumulada en los próximos 10 años.\n",
        "\n",
        "### Fórmulas:\n",
        "\n",
        "La deuda pública después de cada año sigue una progresión geométrica. La fórmula general para el cálculo de la deuda después de \\$( n \\$) años es:\n",
        "\n",
        "$$\n",
        "D_n = D_0 \\cdot (1 + r)^n\n",
        "$$\n",
        "\n",
        "Donde:\n",
        "- \\$( D_n \\$) es la deuda acumulada después de \\$( n \\$) años,\n",
        "- \\$( D_0 \\$) es la deuda inicial (en este caso, \\$1 billón),\n",
        "- \\$( r = 0.03 \\$) es la tasa de crecimiento anual de la deuda (3%),\n",
        "- \\$( n \\$) es el número de años.\n",
        "\n",
        "### Preguntas:\n",
        "\n",
        "1. **Modela la deuda pública como una serie geométrica.**\n",
        "2. **Calcula la deuda acumulada después de 10 años.**\n",
        "\n"
      ],
      "metadata": {
        "id": "xYChH8yv8-70"
      }
    },
    {
      "cell_type": "markdown",
      "source": [
        "# Resolución Matemática: Cálculo de la Deuda Pública (Finanzas Públicas y Series Geométricas)\n",
        "\n",
        "## Datos del Problema:\n",
        "\n",
        "- La deuda inicial es \\$( D_0 = 1 \\$) billón de dólares.\n",
        "- La tasa de crecimiento anual es \\$( r = 0.03 \\$) (3%).\n",
        "- El número de años \\$( n = 10 \\$).\n",
        "\n",
        "### 1. Modelar la deuda pública como una serie geométrica\n",
        "\n",
        "La deuda pública acumulada sigue una progresión geométrica con la fórmula:\n",
        "\n",
        "$$\n",
        "D_n = D_0 \\cdot (1 + r)^n\n",
        "$$\n",
        "\n",
        "Sustituyendo los valores dados:\n",
        "\n",
        "$$\n",
        "D_n = 1 \\cdot (1 + 0.03)^n\n",
        "$$\n",
        "\n",
        "Esto nos da la fórmula general para calcular la deuda acumulada después de \\( n \\) años.\n",
        "\n",
        "### 2. Calcular la deuda acumulada después de 10 años\n",
        "\n",
        "Sustituimos \\$( n = 10 \\$) en la fórmula:\n",
        "\n",
        "$$\n",
        "D_{10} = 1 \\cdot (1 + 0.03)^{10} = (1.03)^{10}\n",
        "$$\n",
        "\n",
        "Calculamos el valor de \\$( (1.03)^{10} \\$):\n",
        "\n",
        "$$\n",
        "(1.03)^{10} \\approx 1.343916\n",
        "$$\n",
        "\n",
        "Por lo tanto, la deuda acumulada después de 10 años es:\n",
        "\n",
        "$$\n",
        "D_{10} \\approx 1.343916 \\text{ billones de dólares}\n",
        "$$\n",
        "\n",
        "### Resumen:\n",
        "\n",
        "1. La fórmula para la deuda pública es \\$( D_n = 1 \\cdot (1.03)^n \\$).\n",
        "2. La deuda acumulada después de 10 años será aproximadamente **1.344 billones de dólares**.\n",
        "\n",
        "---\n",
        "\n"
      ],
      "metadata": {
        "id": "IVfhm-W89U6J"
      }
    },
    {
      "cell_type": "code",
      "source": [
        "import numpy as np\n",
        "import matplotlib.pyplot as plt\n",
        "\n",
        "# Parámetros del problema\n",
        "D0 = 1  # Deuda inicial en billones de dólares\n",
        "r = 0.03  # Tasa de crecimiento anual (3%)\n",
        "n_anios = 10  # Número de años\n",
        "\n",
        "# Función para calcular la deuda acumulada\n",
        "def deuda_acumulada(n, D0, r):\n",
        "    return D0 * (1 + r)**n\n",
        "\n",
        "# Calcular la deuda acumulada para cada año de 1 a 10\n",
        "anios = np.arange(0, n_anios + 1)\n",
        "deuda = deuda_acumulada(anios, D0, r)\n",
        "\n",
        "# Imprimir el resultado para el año 10\n",
        "print(f\"La deuda acumulada después de {n_anios} años es: {deuda[-1]:.3f} billones de dólares\")\n",
        "\n",
        "# Graficar la evolución de la deuda acumulada\n",
        "plt.figure(figsize=(10, 6))\n",
        "plt.plot(anios, deuda, label=\"Deuda acumulada\", marker='o', color='blue')\n",
        "plt.title(\"Evolución de la Deuda Pública Acumulada en 10 Años\")\n",
        "plt.xlabel(\"Años\")\n",
        "plt.ylabel(\"Deuda Acumulada (Billones de dólares)\")\n",
        "plt.grid(True)\n",
        "plt.legend()\n",
        "plt.show()"
      ],
      "metadata": {
        "id": "3KkjiI6K-GY4"
      },
      "execution_count": null,
      "outputs": []
    }
  ]
}